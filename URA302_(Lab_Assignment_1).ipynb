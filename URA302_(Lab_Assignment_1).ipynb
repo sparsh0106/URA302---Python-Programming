{
  "nbformat": 4,
  "nbformat_minor": 0,
  "metadata": {
    "colab": {
      "provenance": [],
      "authorship_tag": "ABX9TyM/WJ5DuSo7CwJ6BVlLS35g",
      "include_colab_link": true
    },
    "kernelspec": {
      "name": "python3",
      "display_name": "Python 3"
    },
    "language_info": {
      "name": "python"
    }
  },
  "cells": [
    {
      "cell_type": "markdown",
      "metadata": {
        "id": "view-in-github",
        "colab_type": "text"
      },
      "source": [
        "<a href=\"https://colab.research.google.com/github/sparsh0106/URA302---Python-Programming/blob/main/URA302_(Lab_Assignment_1).ipynb\" target=\"_parent\"><img src=\"https://colab.research.google.com/assets/colab-badge.svg\" alt=\"Open In Colab\"/></a>"
      ]
    },
    {
      "cell_type": "markdown",
      "source": [
        "Q1. Write a Python program to print the following string in a specific format (see the\n",
        "output). Sample String : \"Twinkle, twinkle, little star, How I wonder what you are! Up above\n",
        "the world so high, Like a diamond in the sky. Twinkle, twinkle, little star, How I wonder what\n",
        "you are\".\n"
      ],
      "metadata": {
        "id": "anpy068kNe2E"
      }
    },
    {
      "cell_type": "code",
      "execution_count": null,
      "metadata": {
        "colab": {
          "base_uri": "https://localhost:8080/"
        },
        "id": "nSpOm0-RNJbl",
        "outputId": "4485d12a-9b1b-4d58-d2d5-2cccdf4cbcbb"
      },
      "outputs": [
        {
          "output_type": "stream",
          "name": "stdout",
          "text": [
            "\"Twinkle, twinkle, little star,\n",
            "How I wonder what you are!\n",
            "Up above the world so high,\n",
            "Like a diamond in the sky.\n",
            "Twinkle, twinkle, little star,\n",
            "How I wonder what you are\"\n"
          ]
        }
      ],
      "source": [
        "print('\"Twinkle, twinkle, little star,\\nHow I wonder what you are!\\nUp above the world so high,\\nLike a diamond in the sky.\\nTwinkle, twinkle, little star,\\nHow I wonder what you are\"')"
      ]
    },
    {
      "cell_type": "markdown",
      "source": [
        "Q2. Write a Python program that accepts the user's first and last name and prints them in\n",
        "reverse order with a space between them."
      ],
      "metadata": {
        "id": "6nB14SctN2tM"
      }
    },
    {
      "cell_type": "code",
      "source": [
        "first_name = input(\"Enter first name : \")\n",
        "last_name = input(\"Enter last name : \")\n",
        "print(last_name + \" \" + first_name)"
      ],
      "metadata": {
        "colab": {
          "base_uri": "https://localhost:8080/"
        },
        "id": "Bn0BaEwYN5Vo",
        "outputId": "d8cbd027-89d8-4707-b650-3c20e918c398"
      },
      "execution_count": null,
      "outputs": [
        {
          "output_type": "stream",
          "name": "stdout",
          "text": [
            "Enter first name : Sparsh\n",
            "Enter last name : Agarwal\n",
            "Agarwal Sparsh\n"
          ]
        }
      ]
    },
    {
      "cell_type": "markdown",
      "source": [
        "Q3. Write a Python program that calculates the area of a circle based on the radius entered\n",
        "by the user."
      ],
      "metadata": {
        "id": "sBRg6c_mON1x"
      }
    },
    {
      "cell_type": "code",
      "source": [
        "r = float(input(\"Enter the radius of the circle : \"))\n",
        "area = 22/7 * r * r\n",
        "print(\"The area of the circle is:\",area)"
      ],
      "metadata": {
        "colab": {
          "base_uri": "https://localhost:8080/"
        },
        "id": "glsv3i3MOQ-I",
        "outputId": "9ab8ce6f-3f53-4a8b-f54d-6f628b2e0e8e"
      },
      "execution_count": null,
      "outputs": [
        {
          "output_type": "stream",
          "name": "stdout",
          "text": [
            "Enter the radius of the circle : 7\n",
            "The area of the circle is: 154.0\n"
          ]
        }
      ]
    },
    {
      "cell_type": "markdown",
      "source": [
        "Q4. Write a Python program to display the first and last colors from the following list.\n",
        "color_list = [\"Red\",\"Green\",\"White\" ,\"Black\"]\n"
      ],
      "metadata": {
        "id": "GFlu4B5vOfGh"
      }
    },
    {
      "cell_type": "code",
      "source": [
        "color_list = [\"Red\",\"Green\",\"White\" ,\"Black\"]\n",
        "print(\"First colour:\",color_list[0])\n",
        "print(\"Second colour:\",color_list[3])"
      ],
      "metadata": {
        "colab": {
          "base_uri": "https://localhost:8080/"
        },
        "id": "iMY10n5nOVYq",
        "outputId": "2813cd03-f131-4b6f-e28a-b1fa4ad0e578"
      },
      "execution_count": null,
      "outputs": [
        {
          "output_type": "stream",
          "name": "stdout",
          "text": [
            "First colour: Red\n",
            "Second colour: Black\n"
          ]
        }
      ]
    },
    {
      "cell_type": "markdown",
      "source": [
        "Q5. Write a Python program that accepts an integer (n) and computes the value of\n",
        "n+nn+nnn"
      ],
      "metadata": {
        "id": "aV7r0VXqO-Rm"
      }
    },
    {
      "cell_type": "code",
      "source": [
        "n = input(\"Enter n : \")\n",
        "print(int(n) + int(2*n) + int(3*n))"
      ],
      "metadata": {
        "colab": {
          "base_uri": "https://localhost:8080/"
        },
        "id": "6WErbk3dPAW4",
        "outputId": "4f107817-8b59-4de0-e5a4-07311e729805"
      },
      "execution_count": null,
      "outputs": [
        {
          "output_type": "stream",
          "name": "stdout",
          "text": [
            "Enter n : 5\n",
            "615\n"
          ]
        }
      ]
    },
    {
      "cell_type": "markdown",
      "source": [
        "Q6. Write a Python program that accepts a sequence of comma-separated numbers from the\n",
        "user and generates a list and a tuple of those numbers. Sample data : 3, 5, 7, 23"
      ],
      "metadata": {
        "id": "fBv7PLVDPO_A"
      }
    },
    {
      "cell_type": "code",
      "source": [
        "x = str(input(\"Enter some numbers : \")).split(\",\")\n",
        "\n",
        "l =[]\n",
        "for i in x:\n",
        "  l.append(int(i))\n",
        "\n",
        "print(l)\n",
        "l = tuple(l)\n",
        "print(l)"
      ],
      "metadata": {
        "colab": {
          "base_uri": "https://localhost:8080/"
        },
        "id": "QG2fYNKTPtnX",
        "outputId": "cfdbc26a-0d09-4aad-fc4c-c7db4005d1c6"
      },
      "execution_count": null,
      "outputs": [
        {
          "output_type": "stream",
          "name": "stdout",
          "text": [
            "Enter some numbers : 1,2,3\n",
            "[1, 2, 3]\n",
            "(1, 2, 3)\n"
          ]
        }
      ]
    },
    {
      "cell_type": "markdown",
      "source": [
        "Q7. Write a program that will convert celsius value to Fahrenheit."
      ],
      "metadata": {
        "id": "VmmoOuzxQACY"
      }
    },
    {
      "cell_type": "code",
      "source": [
        "c = float(input(\"Enter Celcius value : \"))\n",
        "f = 1.8*c + 32\n",
        "print(f)"
      ],
      "metadata": {
        "colab": {
          "base_uri": "https://localhost:8080/"
        },
        "id": "-T3H7HwZQBTy",
        "outputId": "a46eeb47-4809-4c02-acd3-c68efb81c2dc"
      },
      "execution_count": null,
      "outputs": [
        {
          "output_type": "stream",
          "name": "stdout",
          "text": [
            "Enter Celcius value : 30\n",
            "86.0\n"
          ]
        }
      ]
    },
    {
      "cell_type": "markdown",
      "source": [
        "Q8. User will input (2numbers). Write a program to swap the numbers. Add incrementally\n",
        "in any one variable.\n"
      ],
      "metadata": {
        "id": "grIy1SlnQTz3"
      }
    },
    {
      "cell_type": "code",
      "source": [
        "a = float(input(\"Enter no. 1: \"))\n",
        "b = float(input(\"Enter no. 2: \"))\n",
        "a,b = b,a\n",
        "print(a,b)\n",
        "a += 1\n",
        "print(a)"
      ],
      "metadata": {
        "colab": {
          "base_uri": "https://localhost:8080/"
        },
        "id": "CM1Q4o2IQVV2",
        "outputId": "30681a7e-a4ea-474b-9fd3-cb9a4c1153bb"
      },
      "execution_count": null,
      "outputs": [
        {
          "output_type": "stream",
          "name": "stdout",
          "text": [
            "Enter no. 1: 2\n",
            "Enter no. 2: 3\n",
            "3.0 2.0\n",
            "4.0\n"
          ]
        }
      ]
    },
    {
      "cell_type": "markdown",
      "source": [
        "Q9. Write a program that will tell whether the number entered by the user is odd or even."
      ],
      "metadata": {
        "id": "cKH5AzCbQklm"
      }
    },
    {
      "cell_type": "code",
      "source": [
        "x = float(input(\"Enter a no. : \"))\n",
        "if x%2 == 0:\n",
        "  print(\"Even\")\n",
        "else:\n",
        "  print(\"Odd\")"
      ],
      "metadata": {
        "colab": {
          "base_uri": "https://localhost:8080/"
        },
        "id": "Fc3iMNQEQniG",
        "outputId": "18c381d5-d0ae-4129-feb2-a4110e9605d6"
      },
      "execution_count": null,
      "outputs": [
        {
          "output_type": "stream",
          "name": "stdout",
          "text": [
            "Enter a no. : 5.5\n",
            "Odd\n"
          ]
        }
      ]
    },
    {
      "cell_type": "markdown",
      "source": [
        "Q10. Write a program that will tell whether the given year is a leap year or not.\n"
      ],
      "metadata": {
        "id": "ZE6Lwv8NQ0Ag"
      }
    },
    {
      "cell_type": "code",
      "source": [
        "year = int(input(\"Enter year : \"))\n",
        "if year%4 == 0:\n",
        "  print(\"Leap year\")\n",
        "else:\n",
        "  print(\"Not a leap year\")"
      ],
      "metadata": {
        "colab": {
          "base_uri": "https://localhost:8080/"
        },
        "id": "ERl7eBMIQ2Nb",
        "outputId": "bf84f3b4-6252-4545-d550-220036f8d050"
      },
      "execution_count": null,
      "outputs": [
        {
          "output_type": "stream",
          "name": "stdout",
          "text": [
            "Enter year : 2024\n",
            "Leap year\n"
          ]
        }
      ]
    },
    {
      "cell_type": "markdown",
      "source": [
        "Q11. Write a program to find the euclidean distance between two coordinates."
      ],
      "metadata": {
        "id": "JqdejyntRC3z"
      }
    },
    {
      "cell_type": "code",
      "source": [
        "x1 = float(input(\"Enter x1 : \"))\n",
        "x2 = float(input(\"Enter x2 : \"))\n",
        "y1 = float(input(\"Enter y1 : \"))\n",
        "y2 = float(input(\"Enter y2 : \"))\n",
        "\n",
        "d = ((x2-x1)**2 + (y2-y1)**2)**0.5\n",
        "print(d)"
      ],
      "metadata": {
        "colab": {
          "base_uri": "https://localhost:8080/"
        },
        "id": "W1npLBVfRDzN",
        "outputId": "e1e3a326-e366-466c-cb0d-06a16efffa79"
      },
      "execution_count": null,
      "outputs": [
        {
          "output_type": "stream",
          "name": "stdout",
          "text": [
            "Enter x1 : 0\n",
            "Enter x2 : 5\n",
            "Enter y1 : 0\n",
            "Enter y2 : 5\n",
            "7.0710678118654755\n"
          ]
        }
      ]
    },
    {
      "cell_type": "markdown",
      "source": [
        "Q12. Write a program that take a user input of three angles and will find out whether it can\n",
        "form a triangle or not.\n"
      ],
      "metadata": {
        "id": "OnzEQ89JRhyp"
      }
    },
    {
      "cell_type": "code",
      "source": [
        "angle_1 = float(input(\"Angle 1 : \"))\n",
        "angle_2 = float(input(\"Angle 2 : \"))\n",
        "angle_3 = float(input(\"Angle 3 : \"))\n",
        "if (angle_1 + angle_2 + angle_3) == 180:\n",
        "  print(\"Possible\")\n",
        "else:\n",
        "  print(\"not possible\")"
      ],
      "metadata": {
        "colab": {
          "base_uri": "https://localhost:8080/"
        },
        "id": "wKi0P4LhRmxr",
        "outputId": "2e2db092-0394-4a71-a3b5-a8fdd767d833"
      },
      "execution_count": null,
      "outputs": [
        {
          "output_type": "stream",
          "name": "stdout",
          "text": [
            "Angle 1 : 60\n",
            "Angle 2 : 59.9\n",
            "Angle 3 : 60.1\n",
            "Possible\n"
          ]
        }
      ]
    },
    {
      "cell_type": "markdown",
      "source": [
        "Q13. WAP to find compound interest for given values."
      ],
      "metadata": {
        "id": "iaQSLzrnR2OU"
      }
    },
    {
      "cell_type": "code",
      "source": [
        "P = float(input(\"Enter principal amount : \"))\n",
        "r = float(input(\"Enter rate : \"))\n",
        "t = float(input(\"Enter time : \"))\n",
        "n = int(input(\"Enter n : \"))\n",
        "A = P*((1 + (r/n))**(n*t))\n",
        "print(A-P)"
      ],
      "metadata": {
        "colab": {
          "base_uri": "https://localhost:8080/"
        },
        "id": "A3KpKhrRR4kd",
        "outputId": "968d6f7c-6d37-4013-8e68-f2999d35e0e4"
      },
      "execution_count": null,
      "outputs": [
        {
          "output_type": "stream",
          "name": "stdout",
          "text": [
            "Enter principal amount : 10000\n",
            "Enter rate : 0.05\n",
            "Enter time : 2\n",
            "Enter n : 1\n",
            "1025.0\n"
          ]
        }
      ]
    },
    {
      "cell_type": "markdown",
      "source": [
        "Q14. Given a positive integer N, the task is to write a Python program to check if the number\n",
        "is Prime or not in Python."
      ],
      "metadata": {
        "id": "_Y5HSUB0SUIR"
      }
    },
    {
      "cell_type": "code",
      "source": [
        "N = int(input(\"Enter a no. : \"))\n",
        "c = 0\n",
        "for i in range(2, N):\n",
        "  if N%i == 0:\n",
        "    c += 1\n",
        "\n",
        "if c > 0:\n",
        "  print(\"Not prime\")\n",
        "else:\n",
        "  print(\"Prime\")"
      ],
      "metadata": {
        "colab": {
          "base_uri": "https://localhost:8080/"
        },
        "id": "Fj5LziiQSYKv",
        "outputId": "2194f324-9e20-428e-b850-f5b9f419a1af"
      },
      "execution_count": null,
      "outputs": [
        {
          "output_type": "stream",
          "name": "stdout",
          "text": [
            "Enter a no. : 41\n",
            "Prime\n"
          ]
        }
      ]
    },
    {
      "cell_type": "markdown",
      "source": [
        "Q15. Given a positive integer N. The task is to find 1^2 + 2^2 + 3^2 + ... +N^2"
      ],
      "metadata": {
        "id": "JujpI17ySp3l"
      }
    },
    {
      "cell_type": "code",
      "source": [
        "N = int(input(\"Enter num : \"))\n",
        "sum = 0\n",
        "for i in range(1, N+1):\n",
        "  sum = sum + (i**2)\n",
        "\n",
        "print(sum)"
      ],
      "metadata": {
        "colab": {
          "base_uri": "https://localhost:8080/"
        },
        "id": "mXb5PM-9Sson",
        "outputId": "42dd10ef-04da-452b-e2a4-def8068c69d1"
      },
      "execution_count": null,
      "outputs": [
        {
          "output_type": "stream",
          "name": "stdout",
          "text": [
            "Enter num : 4\n",
            "30\n"
          ]
        }
      ]
    }
  ]
}