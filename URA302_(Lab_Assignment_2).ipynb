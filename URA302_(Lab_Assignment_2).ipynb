{
  "nbformat": 4,
  "nbformat_minor": 0,
  "metadata": {
    "colab": {
      "provenance": [],
      "authorship_tag": "ABX9TyN8WVER3BdHUQZ7FsF5dQaL",
      "include_colab_link": true
    },
    "kernelspec": {
      "name": "python3",
      "display_name": "Python 3"
    },
    "language_info": {
      "name": "python"
    }
  },
  "cells": [
    {
      "cell_type": "markdown",
      "metadata": {
        "id": "view-in-github",
        "colab_type": "text"
      },
      "source": [
        "<a href=\"https://colab.research.google.com/github/sparsh0106/URA302---Python-Programming/blob/main/URA302_(Lab_Assignment_2).ipynb\" target=\"_parent\"><img src=\"https://colab.research.google.com/assets/colab-badge.svg\" alt=\"Open In Colab\"/></a>"
      ]
    },
    {
      "cell_type": "markdown",
      "source": [
        "Q1. L is a list defined as L= [11, 12, 13, 14]."
      ],
      "metadata": {
        "id": "CtlS9kyH6J9S"
      }
    },
    {
      "cell_type": "markdown",
      "source": [
        "(i) WAP to add 50 and 60 to L. <br>\n",
        "(ii) WAP to remove 11 and 13 from L. <br>\n",
        "(iii) WAP to sort L in ascending order. <br>\n",
        "(iv) WAP to sort L in descending order. <br>\n",
        "(v) WAP to search for 13 in L. <br>\n",
        "(vi) WAP to count the number of elements present in L. <br>\n",
        "(vii) WAP to sum all the elements in L. <br>\n",
        "(viii) WAP to sum all ODD numbers in L. <br>\n",
        "(ix) WAP to sum all EVEN numbers in L. <br>\n",
        "(x) WAP to sum all PRIME numbers in L. <br>\n",
        "(xi) WAP to clear all the elements in L. <br>\n",
        "(xii) WAP to delete L. <br>\n"
      ],
      "metadata": {
        "id": "UO19LaEX6bKp"
      }
    },
    {
      "cell_type": "code",
      "execution_count": null,
      "metadata": {
        "colab": {
          "base_uri": "https://localhost:8080/",
          "height": 35
        },
        "id": "0ONml7vv6DGb",
        "outputId": "e5ac0653-a57b-40b6-ffc2-396260ae8ec3"
      },
      "outputs": [
        {
          "output_type": "execute_result",
          "data": {
            "text/plain": [
              "'del L'"
            ],
            "application/vnd.google.colaboratory.intrinsic+json": {
              "type": "string"
            }
          },
          "metadata": {},
          "execution_count": 20
        }
      ],
      "source": [
        "L = [11,12,13,14]\n",
        "#(i)\n",
        "L.append(50)\n",
        "L.append(60)\n",
        "#(ii)\n",
        "L.remove(11)\n",
        "L.remove(13)\n",
        "#(iii)\n",
        "L.sort()\n",
        "#(iv)\n",
        "L.sort(reverse = True)\n",
        "#(v)\n",
        "if 13 in L:\n",
        "  print(\"The element is present\")\n",
        "else:\n",
        "  print(\"The element is not present\")\n",
        "#(vi)\n",
        "print(len(L))\n",
        "#(vii)\n",
        "print(sum(L))\n",
        "#(viii)\n",
        "sum_odd = 0\n",
        "for i in L:\n",
        "  if i%2 != 0:\n",
        "    sum_odd = sum_odd + i\n",
        "print(sum_odd)\n",
        "#(ix)\n",
        "sum_even = 0\n",
        "for i in L:\n",
        "  if i%2 == 0:\n",
        "    sum_even = sum_even + i\n",
        "print(sum_even)\n",
        "#(x)\n",
        "sum_prime = 0\n",
        "for i in L:\n",
        "  c = 0\n",
        "  for j in range(1,i+1):\n",
        "    if i%j == 0:\n",
        "      c = c + 1\n",
        "  if c <= 2:\n",
        "    sum_prime = sum_prime + i\n",
        "print(sum_prime)\n",
        "#(xi)\n",
        "L.clear()\n",
        "#(xii)\n",
        "del L\n"
      ]
    },
    {
      "cell_type": "markdown",
      "source": [
        "Q2. Write a Python program to sum all the items in a list without using any inbuilt function."
      ],
      "metadata": {
        "id": "BOsJVjnV-hix"
      }
    },
    {
      "cell_type": "code",
      "source": [
        "L = [1,2,3,4]\n",
        "sum = 0\n",
        "for i in L:\n",
        "  sum = sum + i\n",
        "print(sum)"
      ],
      "metadata": {
        "colab": {
          "base_uri": "https://localhost:8080/"
        },
        "id": "ren2c50Z7A77",
        "outputId": "ff62eb68-9038-4970-c1b4-bf85853ce4bb"
      },
      "execution_count": null,
      "outputs": [
        {
          "output_type": "stream",
          "name": "stdout",
          "text": [
            "10\n"
          ]
        }
      ]
    },
    {
      "cell_type": "markdown",
      "source": [
        "Q3. Write a Python program to multiply all the items in a list without using any inbuilt function.\n"
      ],
      "metadata": {
        "id": "dSYw4MCV_FtB"
      }
    },
    {
      "cell_type": "code",
      "source": [
        "L = [1,2,3,4]\n",
        "prod = 1\n",
        "for i in L:\n",
        "  prod = prod * i\n",
        "print(prod)"
      ],
      "metadata": {
        "colab": {
          "base_uri": "https://localhost:8080/"
        },
        "id": "NnJGZpHN_HYR",
        "outputId": "091d3648-ff10-4ca7-bdac-b6966621893f"
      },
      "execution_count": null,
      "outputs": [
        {
          "output_type": "stream",
          "name": "stdout",
          "text": [
            "24\n"
          ]
        }
      ]
    },
    {
      "cell_type": "markdown",
      "source": [
        "Q4. Write a Python program to generate a 3*4*6 3D array whose each element is *."
      ],
      "metadata": {
        "id": "3veXoSdLMw5f"
      }
    },
    {
      "cell_type": "code",
      "source": [
        "arr = [[[\"*\",\"*\",\"*\",\"*\",\"*\",\"*\"],[\"*\",\"*\",\"*\",\"*\",\"*\",\"*\"],[\"*\",\"*\",\"*\",\"*\",\"*\",\"*\"],[\"*\",\"*\",\"*\",\"*\",\"*\",\"*\"],],[[\"*\",\"*\",\"*\",\"*\",\"*\",\"*\"],[\"*\",\"*\",\"*\",\"*\",\"*\",\"*\"],[\"*\",\"*\",\"*\",\"*\",\"*\",\"*\"],[\"*\",\"*\",\"*\",\"*\",\"*\",\"*\"],],[[\"*\",\"*\",\"*\",\"*\",\"*\",\"*\"],[\"*\",\"*\",\"*\",\"*\",\"*\",\"*\"],[\"*\",\"*\",\"*\",\"*\",\"*\",\"*\"],[\"*\",\"*\",\"*\",\"*\",\"*\",\"*\"],],]\n",
        "for i in arr:\n",
        "  print(i)"
      ],
      "metadata": {
        "colab": {
          "base_uri": "https://localhost:8080/"
        },
        "id": "KLFRLi47My5v",
        "outputId": "0b68182e-8200-48a8-e387-5c472e77ff5f"
      },
      "execution_count": null,
      "outputs": [
        {
          "output_type": "stream",
          "name": "stdout",
          "text": [
            "[['*', '*', '*', '*', '*', '*'], ['*', '*', '*', '*', '*', '*'], ['*', '*', '*', '*', '*', '*'], ['*', '*', '*', '*', '*', '*']]\n",
            "[['*', '*', '*', '*', '*', '*'], ['*', '*', '*', '*', '*', '*'], ['*', '*', '*', '*', '*', '*'], ['*', '*', '*', '*', '*', '*']]\n",
            "[['*', '*', '*', '*', '*', '*'], ['*', '*', '*', '*', '*', '*'], ['*', '*', '*', '*', '*', '*'], ['*', '*', '*', '*', '*', '*']]\n"
          ]
        }
      ]
    },
    {
      "cell_type": "markdown",
      "source": [
        "Q5. D is a dictionary defined as D= {1:5.6, 2:7.8, 3:6.6, 4:8.7, 5:7.7}.\n",
        "\n",
        "(i) WAP to add new entry in D; key=8 and value is 8.8 <br>\n",
        "(ii) WAP to remove key=2. <br>\n",
        "(iii) WAP to check weather 6 key is present in D. <br>\n",
        "(iv) WAP to count the number of elements present in D. <br>\n",
        "(v) WAP to add all the values present D. <br>\n",
        "(vi) WAP to update the value of 3 to 7.1. <br>\n",
        "(vii) WAP to clear the dictionary. <br>"
      ],
      "metadata": {
        "id": "MV-JEQ6fRSeT"
      }
    },
    {
      "cell_type": "code",
      "source": [
        "D= {1:5.6, 2:7.8, 3:6.6, 4:8.7, 5:7.7}\n",
        "#(i)\n",
        "\"\"\"D[8] = 8.8\"\"\"\n",
        "#(ii)\n",
        "\"\"\"D.pop(2)\"\"\"\n",
        "#(iii)\n",
        "\"\"\"if 6 in D.keys():\n",
        "  print(\"Present\")\n",
        "else:\n",
        "  print(\"Not present\")\"\"\"\n",
        "#(iv)\n",
        "\"\"\"print(len(D))\"\"\"\n",
        "#(v)\n",
        "\"\"\"s = 0\n",
        "for i in D.values():\n",
        "  s = s + i\n",
        "print(s)\"\"\"\n",
        "#(vi)\n",
        "\"\"\"D[3] = 7.1\"\"\"\n",
        "#(vii)\n",
        "\"\"\"D.clear()\"\"\""
      ],
      "metadata": {
        "colab": {
          "base_uri": "https://localhost:8080/"
        },
        "id": "scsTms_-RgSq",
        "outputId": "b18aa223-6a9b-4571-c895-b26f0bf6f247"
      },
      "execution_count": null,
      "outputs": [
        {
          "output_type": "stream",
          "name": "stdout",
          "text": [
            "{}\n"
          ]
        }
      ]
    },
    {
      "cell_type": "markdown",
      "source": [
        "Q6. S1 is a set defined as S1= [10, 20, 30, 40, 50, 60]. S2 is a set defined as S2= [40, 50, 60, 70, 80, 90]. <br><br>\n",
        "(i) WAP to add 55 and 66 in Set S1. <br>\n",
        "(ii) WAP to remove 10 and 30 from Set S1. <br>\n",
        "(iii) WAP to check whether 40 is present in S1. <br>\n",
        "(iv) WAP to find the union between S1 and S2. <br>\n",
        "(v) WAP to find the intersection between S1 and S2. <br>\n",
        "(vi) WAP to find the S1 - S2. <br>"
      ],
      "metadata": {
        "id": "UpkiwNCyVIT1"
      }
    },
    {
      "cell_type": "code",
      "source": [
        "S1= [10, 20, 30, 40, 50, 60]\n",
        "S2= [40, 50, 60, 70, 80, 90]\n",
        "\n",
        "s1 = set()\n",
        "s2 = set()\n",
        "for i in S1:\n",
        "  s1.add(i)\n",
        "for j in S2:\n",
        "  s2.add(j)\n",
        "print(s1)\n",
        "print(s2)\n",
        "\n",
        "#(i)\n",
        "s1.add(55)\n",
        "s1.add(66)\n",
        "#(ii)\n",
        "s1.remove(10)\n",
        "s1.remove(30)\n",
        "#(iii)\n",
        "if 40 in s1:\n",
        "  print(\"yes\")\n",
        "else:\n",
        "  print(\"no\")\n",
        "#(iv)\n",
        "x = s1.union(s2)\n",
        "print(x)\n",
        "#(v)\n",
        "print(s1.intersection(s2))\n",
        "#(vi)\n",
        "print(s1 - s2)"
      ],
      "metadata": {
        "colab": {
          "base_uri": "https://localhost:8080/"
        },
        "id": "v6t2kGOdVOci",
        "outputId": "2ddb16bf-f7b4-46c0-9d91-b7088bc57c25"
      },
      "execution_count": null,
      "outputs": [
        {
          "output_type": "stream",
          "name": "stdout",
          "text": [
            "{40, 10, 50, 20, 60, 30}\n",
            "{70, 40, 80, 50, 90, 60}\n",
            "yes\n",
            "{66, 70, 40, 80, 50, 20, 55, 90, 60}\n",
            "{40, 50, 60}\n",
            "{66, 20, 55}\n"
          ]
        }
      ]
    },
    {
      "cell_type": "markdown",
      "source": [
        "Q7. Write the following program: <br><br>\n",
        "(i) WAP to print 100 random strings whose length between 6 and 8. <br>\n",
        "(ii) WAP to print all prime numbers between 600 and 800. <br>\n",
        "(iii) WAP to print all numbers between 100 and 1000 that are divisible by 7 and 9.\n",
        "\n",
        "\n",
        "\n",
        "\n"
      ],
      "metadata": {
        "id": "inTgA4TEMOLQ"
      }
    },
    {
      "cell_type": "code",
      "source": [
        "#(i)\n",
        "\"\"\"l = ['a','b','c','d','e','f','g','h']\n",
        "import random\n",
        "for i in range(100):\n",
        "  s = \"\"\n",
        "  for j in range(random.randint(6,8)):\n",
        "    s = s + random.choice(l)\n",
        "  print(s)\"\"\"\n",
        "\n",
        "#(ii)\n",
        "\"\"\"l = []\n",
        "for i in range(600, 801):\n",
        "  c = 0\n",
        "  for j in range(1,i+1):\n",
        "    if i%j == 0:\n",
        "      c = c + 1\n",
        "  if c <= 2:\n",
        "    l.append(i)\n",
        "print(l)\"\"\"\n",
        "\n",
        "#(iii)\n",
        "\"\"\"for i in range(100,1001):\n",
        "  if i%7 == 0 and i%9 == 0:\n",
        "    print(i)\"\"\""
      ],
      "metadata": {
        "colab": {
          "base_uri": "https://localhost:8080/"
        },
        "id": "VhEvPBXZPI2R",
        "outputId": "773045fa-125f-418f-9c14-d1f719a9569f"
      },
      "execution_count": null,
      "outputs": [
        {
          "output_type": "stream",
          "name": "stdout",
          "text": [
            "126\n",
            "189\n",
            "252\n",
            "315\n",
            "378\n",
            "441\n",
            "504\n",
            "567\n",
            "630\n",
            "693\n",
            "756\n",
            "819\n",
            "882\n",
            "945\n"
          ]
        }
      ]
    },
    {
      "cell_type": "markdown",
      "source": [
        "Q8. Write a Python program to display the examination schedule. (extract the date from exam_st_date). exam_st_date = (11, 12, 2014)"
      ],
      "metadata": {
        "id": "fCoN-KzGYmoS"
      }
    },
    {
      "cell_type": "code",
      "source": [
        "exam_st_date = (11,12,2014)\n",
        "print(f\"The exam date is {exam_st_date[0]}/{exam_st_date[1]}/{exam_st_date[2]}\")"
      ],
      "metadata": {
        "colab": {
          "base_uri": "https://localhost:8080/"
        },
        "id": "MzEu2xCXWCMx",
        "outputId": "c6351284-9b9b-47a1-b8d2-32c5e43333d2"
      },
      "execution_count": null,
      "outputs": [
        {
          "output_type": "stream",
          "name": "stdout",
          "text": [
            "The exam date is 11/12/2014\n"
          ]
        }
      ]
    },
    {
      "cell_type": "markdown",
      "source": [
        "Q9. Iterate the given list of numbers and print only those numbers which are divisible by 5."
      ],
      "metadata": {
        "id": "44PxFsCwaPzK"
      }
    },
    {
      "cell_type": "code",
      "source": [
        "l = [5,10,11,14,15,20,24]\n",
        "for i in l:\n",
        "  if i%5 == 0:\n",
        "    print(i)"
      ],
      "metadata": {
        "id": "Q2fJsPMzaRiZ"
      },
      "execution_count": null,
      "outputs": []
    },
    {
      "cell_type": "markdown",
      "source": [
        "Q10. Write a Python program to check if a given number is even or odd using boolean variables."
      ],
      "metadata": {
        "id": "wVWR0yDzLSfx"
      }
    },
    {
      "cell_type": "code",
      "source": [
        "n = float(input(\"Enter a num : \"))\n",
        "if n%2 == False:\n",
        "  print(\"EVEN\")\n",
        "else:\n",
        "  print(\"ODD\")"
      ],
      "metadata": {
        "colab": {
          "base_uri": "https://localhost:8080/"
        },
        "id": "lLN4ExptLZfa",
        "outputId": "61fe37d0-1ea4-476a-be68-1167f77e0f10"
      },
      "execution_count": null,
      "outputs": [
        {
          "output_type": "stream",
          "name": "stdout",
          "text": [
            "Enter a num : 5\n",
            "ODD\n"
          ]
        }
      ]
    },
    {
      "cell_type": "markdown",
      "source": [
        "Q11. Write a program to find how many times substring “Emma” appears in the given string"
      ],
      "metadata": {
        "id": "EG4lbUAeLqjJ"
      }
    },
    {
      "cell_type": "code",
      "source": [
        "st = \"emmaemmaemmaemma\"\n",
        "print(st.count(\"emma\"))"
      ],
      "metadata": {
        "colab": {
          "base_uri": "https://localhost:8080/"
        },
        "id": "0kZeSUOzLpsS",
        "outputId": "2e7ab7e5-8efb-4114-c3ee-7c0598fe2be2"
      },
      "execution_count": null,
      "outputs": [
        {
          "output_type": "stream",
          "name": "stdout",
          "text": [
            "4\n"
          ]
        }
      ]
    },
    {
      "cell_type": "markdown",
      "source": [
        "Q12. Create a new list from two list using the following condition, Given two list of numbers, write a program to create a new list such that the new list should contain odd numbers from the first\n",
        "list and even numbers from the second list."
      ],
      "metadata": {
        "id": "IXmr4mCFL0Ap"
      }
    },
    {
      "cell_type": "code",
      "source": [
        "l1 = [1,2,3]\n",
        "l2 = [4,5,6]\n",
        "l3 = []\n",
        "for i in l1:\n",
        "  if i%2 != 0:\n",
        "    l3.append(i)\n",
        "for j in l2:\n",
        "  if j%2 == 0:\n",
        "    l3.append(j)\n",
        "print(l3)"
      ],
      "metadata": {
        "colab": {
          "base_uri": "https://localhost:8080/"
        },
        "id": "juoSKH5HLzXR",
        "outputId": "d1afa8f1-c1a6-41da-e815-64b1e377da2e"
      },
      "execution_count": null,
      "outputs": [
        {
          "output_type": "stream",
          "name": "stdout",
          "text": [
            "[1, 3, 4, 6]\n"
          ]
        }
      ]
    }
  ]
}