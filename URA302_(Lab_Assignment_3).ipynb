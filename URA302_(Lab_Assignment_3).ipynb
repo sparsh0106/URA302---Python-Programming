{
  "nbformat": 4,
  "nbformat_minor": 0,
  "metadata": {
    "colab": {
      "provenance": [],
      "authorship_tag": "ABX9TyN3B6m30zN2DB7egcpoAzRe",
      "include_colab_link": true
    },
    "kernelspec": {
      "name": "python3",
      "display_name": "Python 3"
    },
    "language_info": {
      "name": "python"
    }
  },
  "cells": [
    {
      "cell_type": "markdown",
      "metadata": {
        "id": "view-in-github",
        "colab_type": "text"
      },
      "source": [
        "<a href=\"https://colab.research.google.com/github/sparsh0106/URA302---Python-Programming/blob/main/URA302_(Lab_Assignment_3).ipynb\" target=\"_parent\"><img src=\"https://colab.research.google.com/assets/colab-badge.svg\" alt=\"Open In Colab\"/></a>"
      ]
    },
    {
      "cell_type": "markdown",
      "source": [
        "**Q1.**\n",
        " Write a Python program to calculate the difference between a given number and 17 with the help of function. If the number is greater than 17, return twice the absolute difference.\n"
      ],
      "metadata": {
        "id": "XCvtRvoJ_u_d"
      }
    },
    {
      "cell_type": "code",
      "execution_count": null,
      "metadata": {
        "colab": {
          "base_uri": "https://localhost:8080/"
        },
        "id": "ayvXw0Gx9YWW",
        "outputId": "76d2ab1c-8582-42ad-8b72-19b1bd79809f"
      },
      "outputs": [
        {
          "output_type": "stream",
          "name": "stdout",
          "text": [
            "10\n",
            "3\n"
          ]
        }
      ],
      "source": [
        "def difference(n):\n",
        "  if n <= 17:\n",
        "    return 17 - n\n",
        "  else:\n",
        "    return (n - 17) * 2\n",
        "\n",
        "print(difference(22))\n",
        "print(difference(14))\n"
      ]
    },
    {
      "cell_type": "markdown",
      "source": [
        "**Q2.** Write a Python program for a function. to test whether a number is within 100 to 1000 or 2000."
      ],
      "metadata": {
        "id": "MxkzowdDAJui"
      }
    },
    {
      "cell_type": "code",
      "source": [
        "\n",
        "\n",
        "def near_thousand(n):\n",
        "  return (100 <= n <= 1000) or (n == 2000)\n",
        "print(near_thousand(1000))\n",
        "print(near_thousand(900))\n",
        "print(near_thousand(800))\n",
        "print(near_thousand(2200))\n",
        "print(near_thousand(2000))\n"
      ],
      "metadata": {
        "colab": {
          "base_uri": "https://localhost:8080/"
        },
        "id": "Ge8QVbCeAQc9",
        "outputId": "13f45374-718d-4800-eb07-8cf89d1da675"
      },
      "execution_count": null,
      "outputs": [
        {
          "output_type": "stream",
          "name": "stdout",
          "text": [
            "True\n",
            "True\n",
            "True\n",
            "False\n",
            "True\n"
          ]
        }
      ]
    },
    {
      "cell_type": "markdown",
      "source": [
        "**Q3.**  Write a Python program to reverse a string."
      ],
      "metadata": {
        "id": "ufI3pkWZA2RZ"
      }
    },
    {
      "cell_type": "code",
      "source": [
        "def rev_str(a):\n",
        "  return a[::-1]\n",
        "\n",
        "print(rev_str('sparsh'))\n",
        "print(rev_str('lmfao'))"
      ],
      "metadata": {
        "colab": {
          "base_uri": "https://localhost:8080/"
        },
        "id": "TuRxoQ1nA51U",
        "outputId": "d9218e3b-af04-4ad7-ac48-e6267b8dd702"
      },
      "execution_count": null,
      "outputs": [
        {
          "output_type": "stream",
          "name": "stdout",
          "text": [
            "hsraps\n",
            "oafml\n"
          ]
        }
      ]
    },
    {
      "cell_type": "markdown",
      "source": [
        "**Q4.** Write a Python function that accepts a string and counts the number of upper and lower\n",
        "case letters."
      ],
      "metadata": {
        "id": "C9Bpk2DnBD0R"
      }
    },
    {
      "cell_type": "code",
      "source": [
        "def count(a):\n",
        "  upr = 0\n",
        "  lwr = 0\n",
        "  for i in a:\n",
        "    if i.isupper():\n",
        "      upr += 1\n",
        "    if i.islower():\n",
        "      lwr += 1\n",
        "\n",
        "  return upr, lwr\n",
        "\n",
        "print(count(\"Sparsh\"))\n",
        "print(count(\"sPARSH\"))"
      ],
      "metadata": {
        "colab": {
          "base_uri": "https://localhost:8080/"
        },
        "id": "GS8DJVeWBTsK",
        "outputId": "90b314ea-62a1-4069-c90c-2a36ce08820d"
      },
      "execution_count": null,
      "outputs": [
        {
          "output_type": "stream",
          "name": "stdout",
          "text": [
            "(1, 5)\n",
            "(5, 1)\n"
          ]
        }
      ]
    },
    {
      "cell_type": "markdown",
      "source": [
        "**Q5.** Write a Python function that takes a list and returns a new list with distinct elements\n",
        "from the first list.\n"
      ],
      "metadata": {
        "id": "Zp0kxEjwBjAB"
      }
    },
    {
      "cell_type": "code",
      "source": [
        "def distinct(l):\n",
        "    new_L = []\n",
        "    for i in l:\n",
        "        if i not in new_L:\n",
        "            new_L.append(i)\n",
        "    return new_L\n",
        "\n",
        "print(distinct([1, 1, 1, 1, 1, 1, 1, 2, 2, 3, 3, 3, 3, 4, 4, 5, 5]))\n"
      ],
      "metadata": {
        "colab": {
          "base_uri": "https://localhost:8080/"
        },
        "id": "U6bpbS5QBoXl",
        "outputId": "778a7e57-d881-4326-cddd-00686d1763f5"
      },
      "execution_count": null,
      "outputs": [
        {
          "output_type": "stream",
          "name": "stdout",
          "text": [
            "[1, 2, 3, 4, 5]\n"
          ]
        }
      ]
    },
    {
      "cell_type": "markdown",
      "source": [
        "**Q6.** Write a Python program to print the even numbers from a given list. Sample List : [1,\n",
        "2, 3, 4, 5, 6, 7, 8, 9]"
      ],
      "metadata": {
        "id": "ZeB4YlqVDJ_a"
      }
    },
    {
      "cell_type": "code",
      "source": [
        "def even(l):\n",
        "  even_l = [i for i in l if i%2 == 0]\n",
        "  return even_l\n",
        "\n",
        "print(even([1, 2, 3, 4, 5, 6, 7, 8, 9]))"
      ],
      "metadata": {
        "colab": {
          "base_uri": "https://localhost:8080/"
        },
        "id": "YKY7wRxADO3a",
        "outputId": "740bdf95-426b-49e8-9960-86941c9b74f2"
      },
      "execution_count": null,
      "outputs": [
        {
          "output_type": "stream",
          "name": "stdout",
          "text": [
            "[2, 4, 6, 8]\n"
          ]
        }
      ]
    },
    {
      "cell_type": "markdown",
      "source": [
        "**Q7.** Write a Python program to access a function inside a function"
      ],
      "metadata": {
        "id": "t1JGvR9WD7l7"
      }
    },
    {
      "cell_type": "code",
      "source": [
        "def add(n):\n",
        "  if n == 0:\n",
        "    return 0\n",
        "  else:\n",
        "    return n + add(n-1)\n",
        "\n",
        "print(add(5))"
      ],
      "metadata": {
        "colab": {
          "base_uri": "https://localhost:8080/"
        },
        "id": "4Mis48VvD-yV",
        "outputId": "bd2edf67-3d71-4502-b61e-3d5d7f87f795"
      },
      "execution_count": null,
      "outputs": [
        {
          "output_type": "stream",
          "name": "stdout",
          "text": [
            "15\n"
          ]
        }
      ]
    },
    {
      "cell_type": "markdown",
      "source": [
        "Q8. Define a Python function student(). Using function attributes display the names of all arguments.\n"
      ],
      "metadata": {
        "id": "eaBqypqgmk75"
      }
    },
    {
      "cell_type": "code",
      "source": [
        "def student(name,age):\n",
        "  print(name,age)\n",
        "\n",
        "student(\"Sparsh\",17)\n",
        "student(\"Anahita\", 18)\n"
      ],
      "metadata": {
        "colab": {
          "base_uri": "https://localhost:8080/"
        },
        "id": "2VPNUmxam1In",
        "outputId": "0f8f06b0-b94d-4047-ffc4-e3daf9d2adf2"
      },
      "execution_count": 2,
      "outputs": [
        {
          "output_type": "stream",
          "name": "stdout",
          "text": [
            "Sparsh 17\n",
            "Anahita 18\n"
          ]
        }
      ]
    },
    {
      "cell_type": "markdown",
      "source": [
        "Q9. Write a Python class named Student with two attributes: student_id, student_name. Add a new attribute: student_class. Create a function to display all attributes and their values in the Student class"
      ],
      "metadata": {
        "id": "trGjYPFBqKoa"
      }
    },
    {
      "cell_type": "code",
      "source": [
        "class Student:\n",
        "    def __init__(self, student_id, student_name):\n",
        "        self.student_id = student_id\n",
        "        self.student_name = student_name\n",
        "        self.student_age = None\n",
        "\n",
        "    def display_attributes(self):\n",
        "        print(f\"Student ID: {self.student_id}\")\n",
        "        print(f\"Student Name: {self.student_name}\")\n",
        "        print(f\"Student Age: {self.student_age}\")\n",
        "\n",
        "student = Student(102323080, \"Sparsh Agarwal\")\n",
        "\n",
        "student.age = 17\n",
        "\n",
        "student.display_attributes()\n"
      ],
      "metadata": {
        "colab": {
          "base_uri": "https://localhost:8080/"
        },
        "id": "ZDV7INbFrajN",
        "outputId": "f7249c72-5e4a-4e7c-a0a6-6de0809fd52e"
      },
      "execution_count": 8,
      "outputs": [
        {
          "output_type": "stream",
          "name": "stdout",
          "text": [
            "Student ID: 102323080\n",
            "Student Name: Sparsh Agarwal\n",
            "Student Age: None\n"
          ]
        }
      ]
    },
    {
      "cell_type": "markdown",
      "source": [
        "Q10. Write a Python class named Student with two instances student1, student2 and assign values to the instances' attributes. Print all the attributes of the student1, student2 instances with their values in the given format.\n"
      ],
      "metadata": {
        "id": "-eIUlcgFt1rQ"
      }
    },
    {
      "cell_type": "code",
      "source": [
        "class Student:\n",
        "    def __init__(self, student_id, student_name, student_age):\n",
        "        self.student_id = student_id\n",
        "        self.student_name = student_name\n",
        "        self.student_age = student_age\n",
        "\n",
        "    def display(self):\n",
        "        print(f\"Student ID: {self.student_id}\")\n",
        "        print(f\"Student Name: {self.student_name}\")\n",
        "        print(f\"Student Age: {self.student_age}\")\n",
        "        print()\n",
        "\n",
        "student1 = Student(102323080, \"Sparsh\", 17)\n",
        "student2 = Student(123456789, \"Anahita\", 18)\n",
        "\n",
        "print(\"Details of student1:\")\n",
        "student1.display()\n",
        "\n",
        "print(\"Details of student2:\")\n",
        "student2.display()\n"
      ],
      "metadata": {
        "colab": {
          "base_uri": "https://localhost:8080/"
        },
        "id": "Thz-kvE9t5VS",
        "outputId": "cc8e9ebe-eeb0-4e76-b424-17ca2f6853b9"
      },
      "execution_count": 9,
      "outputs": [
        {
          "output_type": "stream",
          "name": "stdout",
          "text": [
            "Details of student1:\n",
            "Student ID: 102323080\n",
            "Student Name: Sparsh\n",
            "Student Age: 17\n",
            "\n",
            "Details of student2:\n",
            "Student ID: 123456789\n",
            "Student Name: Anahita\n",
            "Student Age: 18\n",
            "\n"
          ]
        }
      ]
    },
    {
      "cell_type": "markdown",
      "source": [
        "Q11. Write a Python class named Circle constructed from a radius and two methods that will compute the area and the perimeter of a circle.\n"
      ],
      "metadata": {
        "id": "kB1rQqJxzbeX"
      }
    },
    {
      "cell_type": "code",
      "source": [
        "import math\n",
        "\n",
        "class Circle:\n",
        "    def __init__(self, radius):\n",
        "        self.radius = radius\n",
        "\n",
        "    def area(self):\n",
        "        return math.pi * self.radius ** 2\n",
        "\n",
        "    def perimeter(self):\n",
        "        return 2 * math.pi * self.radius\n",
        "\n",
        "\n",
        "circle = Circle(5)\n",
        "\n",
        "print(f\"Area of the circle: {circle.area()}\")\n",
        "print(f\"Perimeter of the circle: {circle.perimeter()}\")\n"
      ],
      "metadata": {
        "colab": {
          "base_uri": "https://localhost:8080/"
        },
        "id": "Z8ORcTPWzd5W",
        "outputId": "ec5a5ecf-f4b0-4aa9-aba9-58ecb6be0234"
      },
      "execution_count": 10,
      "outputs": [
        {
          "output_type": "stream",
          "name": "stdout",
          "text": [
            "Area of the circle: 78.53981633974483\n",
            "Perimeter of the circle: 31.41592653589793\n"
          ]
        }
      ]
    },
    {
      "cell_type": "markdown",
      "source": [
        "Q12. Write a Python class that has two methods: get_String and print_String , get_String accept a string from the user and print_String prints the string in upper case."
      ],
      "metadata": {
        "id": "gcv8037g0MNQ"
      }
    },
    {
      "cell_type": "code",
      "source": [
        "class nig:\n",
        "    def __init__(self):\n",
        "        self.user_string = \"\"\n",
        "\n",
        "    def get_String(self):\n",
        "        self.user_string = input(\"Enter a string: \")\n",
        "\n",
        "    def print_String(self):\n",
        "        print(self.user_string.upper())\n",
        "\n",
        "n = nig()\n",
        "\n",
        "n.get_String()\n",
        "n.print_String()\n"
      ],
      "metadata": {
        "colab": {
          "base_uri": "https://localhost:8080/"
        },
        "id": "EHf6QMcp0N3Z",
        "outputId": "8dc98915-d69c-40c3-f05e-ae8ed86b717c"
      },
      "execution_count": 12,
      "outputs": [
        {
          "output_type": "stream",
          "name": "stdout",
          "text": [
            "Enter a string: sparsh\n",
            "SPARSH\n"
          ]
        }
      ]
    }
  ]
}