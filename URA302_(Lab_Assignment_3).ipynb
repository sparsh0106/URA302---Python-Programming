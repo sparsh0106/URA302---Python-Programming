{
  "nbformat": 4,
  "nbformat_minor": 0,
  "metadata": {
    "colab": {
      "provenance": [],
      "authorship_tag": "ABX9TyOm8GVRXwcI7yLKdCyxiV0Y",
      "include_colab_link": true
    },
    "kernelspec": {
      "name": "python3",
      "display_name": "Python 3"
    },
    "language_info": {
      "name": "python"
    }
  },
  "cells": [
    {
      "cell_type": "markdown",
      "metadata": {
        "id": "view-in-github",
        "colab_type": "text"
      },
      "source": [
        "<a href=\"https://colab.research.google.com/github/sparsh0106/URA302---Python-Programming/blob/main/URA302_(Lab_Assignment_3).ipynb\" target=\"_parent\"><img src=\"https://colab.research.google.com/assets/colab-badge.svg\" alt=\"Open In Colab\"/></a>"
      ]
    },
    {
      "cell_type": "markdown",
      "source": [
        "**Q1.**\n",
        " Write a Python program to calculate the difference between a given number and 17 with the help of function. If the number is greater than 17, return twice the absolute difference.\n"
      ],
      "metadata": {
        "id": "XCvtRvoJ_u_d"
      }
    },
    {
      "cell_type": "code",
      "execution_count": null,
      "metadata": {
        "colab": {
          "base_uri": "https://localhost:8080/"
        },
        "id": "ayvXw0Gx9YWW",
        "outputId": "76d2ab1c-8582-42ad-8b72-19b1bd79809f"
      },
      "outputs": [
        {
          "output_type": "stream",
          "name": "stdout",
          "text": [
            "10\n",
            "3\n"
          ]
        }
      ],
      "source": [
        "def difference(n):\n",
        "  if n <= 17:\n",
        "    return 17 - n\n",
        "  else:\n",
        "    return (n - 17) * 2\n",
        "\n",
        "print(difference(22))\n",
        "print(difference(14))\n"
      ]
    },
    {
      "cell_type": "markdown",
      "source": [
        "**Q2.** Write a Python program for a function. to test whether a number is within 100 to 1000 or 2000."
      ],
      "metadata": {
        "id": "MxkzowdDAJui"
      }
    },
    {
      "cell_type": "code",
      "source": [
        "\n",
        "\n",
        "def near_thousand(n):\n",
        "  return (100 <= n <= 1000) or (n == 2000)\n",
        "print(near_thousand(1000))\n",
        "print(near_thousand(900))\n",
        "print(near_thousand(800))\n",
        "print(near_thousand(2200))\n",
        "print(near_thousand(2000))\n"
      ],
      "metadata": {
        "colab": {
          "base_uri": "https://localhost:8080/"
        },
        "id": "Ge8QVbCeAQc9",
        "outputId": "13f45374-718d-4800-eb07-8cf89d1da675"
      },
      "execution_count": null,
      "outputs": [
        {
          "output_type": "stream",
          "name": "stdout",
          "text": [
            "True\n",
            "True\n",
            "True\n",
            "False\n",
            "True\n"
          ]
        }
      ]
    },
    {
      "cell_type": "markdown",
      "source": [
        "**Q3.**  Write a Python program to reverse a string."
      ],
      "metadata": {
        "id": "ufI3pkWZA2RZ"
      }
    },
    {
      "cell_type": "code",
      "source": [
        "def rev_str(a):\n",
        "  return a[::-1]\n",
        "\n",
        "print(rev_str('sparsh'))\n",
        "print(rev_str('lmfao'))"
      ],
      "metadata": {
        "colab": {
          "base_uri": "https://localhost:8080/"
        },
        "id": "TuRxoQ1nA51U",
        "outputId": "d9218e3b-af04-4ad7-ac48-e6267b8dd702"
      },
      "execution_count": null,
      "outputs": [
        {
          "output_type": "stream",
          "name": "stdout",
          "text": [
            "hsraps\n",
            "oafml\n"
          ]
        }
      ]
    },
    {
      "cell_type": "markdown",
      "source": [
        "**Q4.** Write a Python function that accepts a string and counts the number of upper and lower\n",
        "case letters."
      ],
      "metadata": {
        "id": "C9Bpk2DnBD0R"
      }
    },
    {
      "cell_type": "code",
      "source": [
        "def count(a):\n",
        "  upr = 0\n",
        "  lwr = 0\n",
        "  for i in a:\n",
        "    if i.isupper():\n",
        "      upr += 1\n",
        "    if i.islower():\n",
        "      lwr += 1\n",
        "\n",
        "  return upr, lwr\n",
        "\n",
        "print(count(\"Sparsh\"))\n",
        "print(count(\"sPARSH\"))"
      ],
      "metadata": {
        "colab": {
          "base_uri": "https://localhost:8080/"
        },
        "id": "GS8DJVeWBTsK",
        "outputId": "90b314ea-62a1-4069-c90c-2a36ce08820d"
      },
      "execution_count": null,
      "outputs": [
        {
          "output_type": "stream",
          "name": "stdout",
          "text": [
            "(1, 5)\n",
            "(5, 1)\n"
          ]
        }
      ]
    },
    {
      "cell_type": "markdown",
      "source": [
        "**Q5.** Write a Python function that takes a list and returns a new list with distinct elements\n",
        "from the first list.\n"
      ],
      "metadata": {
        "id": "Zp0kxEjwBjAB"
      }
    },
    {
      "cell_type": "code",
      "source": [
        "def distinct(l):\n",
        "    new_L = []\n",
        "    for i in l:\n",
        "        if i not in new_L:\n",
        "            new_L.append(i)\n",
        "    return new_L\n",
        "\n",
        "print(distinct([1, 1, 1, 1, 1, 1, 1, 2, 2, 3, 3, 3, 3, 4, 4, 5, 5]))\n"
      ],
      "metadata": {
        "colab": {
          "base_uri": "https://localhost:8080/"
        },
        "id": "U6bpbS5QBoXl",
        "outputId": "778a7e57-d881-4326-cddd-00686d1763f5"
      },
      "execution_count": null,
      "outputs": [
        {
          "output_type": "stream",
          "name": "stdout",
          "text": [
            "[1, 2, 3, 4, 5]\n"
          ]
        }
      ]
    },
    {
      "cell_type": "markdown",
      "source": [
        "**Q6.** Write a Python program to print the even numbers from a given list. Sample List : [1,\n",
        "2, 3, 4, 5, 6, 7, 8, 9]"
      ],
      "metadata": {
        "id": "ZeB4YlqVDJ_a"
      }
    },
    {
      "cell_type": "code",
      "source": [
        "def even(l):\n",
        "  even_l = [i for i in l if i%2 == 0]\n",
        "  return even_l\n",
        "\n",
        "print(even([1, 2, 3, 4, 5, 6, 7, 8, 9]))"
      ],
      "metadata": {
        "colab": {
          "base_uri": "https://localhost:8080/"
        },
        "id": "YKY7wRxADO3a",
        "outputId": "740bdf95-426b-49e8-9960-86941c9b74f2"
      },
      "execution_count": null,
      "outputs": [
        {
          "output_type": "stream",
          "name": "stdout",
          "text": [
            "[2, 4, 6, 8]\n"
          ]
        }
      ]
    },
    {
      "cell_type": "markdown",
      "source": [
        "**Q7.** Write a Python program to access a function inside a function"
      ],
      "metadata": {
        "id": "t1JGvR9WD7l7"
      }
    },
    {
      "cell_type": "code",
      "source": [
        "def add(n):\n",
        "  if n == 0:\n",
        "    return 0\n",
        "  else:\n",
        "    return n + add(n-1)\n",
        "\n",
        "print(add(5))"
      ],
      "metadata": {
        "colab": {
          "base_uri": "https://localhost:8080/"
        },
        "id": "4Mis48VvD-yV",
        "outputId": "bd2edf67-3d71-4502-b61e-3d5d7f87f795"
      },
      "execution_count": null,
      "outputs": [
        {
          "output_type": "stream",
          "name": "stdout",
          "text": [
            "15\n"
          ]
        }
      ]
    },
    {
      "cell_type": "code",
      "source": [],
      "metadata": {
        "id": "lO1Ry5vHF61e"
      },
      "execution_count": null,
      "outputs": []
    }
  ]
}